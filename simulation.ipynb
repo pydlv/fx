{
 "cells": [
  {
   "cell_type": "code",
   "execution_count": 1,
   "metadata": {
    "collapsed": true
   },
   "outputs": [],
   "source": [
    "from simulation.exchange import *\n",
    "\n",
    "ex = Exchange(10, 0, 1.35)"
   ]
  },
  {
   "cell_type": "code",
   "execution_count": 2,
   "outputs": [
    {
     "name": "stdout",
     "output_type": "stream",
     "text": [
      "Balance USD: 10\n",
      "Balance GBP: 0\n",
      "Market price: 1.35\n",
      "Orders:\n",
      "\n"
     ]
    }
   ],
   "source": [
    "print(ex)"
   ],
   "metadata": {
    "collapsed": false,
    "pycharm": {
     "name": "#%%\n"
    }
   }
  },
  {
   "cell_type": "code",
   "execution_count": 3,
   "outputs": [],
   "source": [
    "ex.add_order(Order(order_type=OrderType.Buy, quantity=3, price=1.3))"
   ],
   "metadata": {
    "collapsed": false,
    "pycharm": {
     "name": "#%%\n"
    }
   }
  },
  {
   "cell_type": "code",
   "execution_count": 4,
   "outputs": [
    {
     "name": "stdout",
     "output_type": "stream",
     "text": [
      "Balance USD: 10\n",
      "Balance GBP: 0\n",
      "Market price: 1.35\n",
      "Orders:\n",
      "OrderType.Buy 3 @ 1.3\n"
     ]
    }
   ],
   "source": [
    "print(ex)"
   ],
   "metadata": {
    "collapsed": false,
    "pycharm": {
     "name": "#%%\n"
    }
   }
  },
  {
   "cell_type": "code",
   "execution_count": 5,
   "outputs": [
    {
     "name": "stdout",
     "output_type": "stream",
     "text": [
      "Balance USD: 10\n",
      "Balance GBP: 0\n",
      "Market price: 1.31\n",
      "Orders:\n",
      "OrderType.Buy 3 @ 1.3\n"
     ]
    }
   ],
   "source": [
    "ex.update_price(1.31)\n",
    "print(ex)"
   ],
   "metadata": {
    "collapsed": false,
    "pycharm": {
     "name": "#%%\n"
    }
   }
  },
  {
   "cell_type": "code",
   "execution_count": 6,
   "outputs": [
    {
     "name": "stdout",
     "output_type": "stream",
     "text": [
      "Balance USD: 6.1\n",
      "Balance GBP: 3\n",
      "Market price: 1.29\n",
      "Orders:\n",
      "\n"
     ]
    }
   ],
   "source": [
    "ex.update_price(1.29)\n",
    "print(ex)"
   ],
   "metadata": {
    "collapsed": false,
    "pycharm": {
     "name": "#%%\n"
    }
   }
  },
  {
   "cell_type": "code",
   "execution_count": 7,
   "outputs": [
    {
     "name": "stdout",
     "output_type": "stream",
     "text": [
      "Balance USD: 6.1\n",
      "Balance GBP: 3\n",
      "Market price: 1.29\n",
      "Orders:\n",
      "OrderType.Sell 3 @ 1.32\n"
     ]
    }
   ],
   "source": [
    "ex.add_order(Order(order_type=OrderType.Sell, quantity=3, price=1.32))\n",
    "print(ex)"
   ],
   "metadata": {
    "collapsed": false,
    "pycharm": {
     "name": "#%%\n"
    }
   }
  },
  {
   "cell_type": "code",
   "execution_count": 8,
   "outputs": [
    {
     "name": "stdout",
     "output_type": "stream",
     "text": [
      "Balance USD: 10.059999999999999\n",
      "Balance GBP: 0\n",
      "Market price: 1.35\n",
      "Orders:\n",
      "\n"
     ]
    }
   ],
   "source": [
    "ex.update_price(1.35)\n",
    "print(ex)"
   ],
   "metadata": {
    "collapsed": false,
    "pycharm": {
     "name": "#%%\n"
    }
   }
  },
  {
   "cell_type": "code",
   "execution_count": 9,
   "outputs": [],
   "source": [
    "ex.balance_GBP = 4"
   ],
   "metadata": {
    "collapsed": false,
    "pycharm": {
     "name": "#%%\n"
    }
   }
  },
  {
   "cell_type": "code",
   "execution_count": 14,
   "outputs": [
    {
     "name": "stdout",
     "output_type": "stream",
     "text": [
      "Balance USD: 10.059999999999999\n",
      "Balance GBP: 4\n",
      "Market price: 1.25\n",
      "Orders:\n",
      "\n",
      "OrderType.Buy 2.630065359477124 @ 1.275\n",
      "OrderType.Buy 2.6826666666666665 @ 1.25\n",
      "OrderType.Buy 2.737414965986394 @ 1.225\n",
      "OrderType.Sell 1.3333333333333333 @ 1.325\n",
      "OrderType.Sell 1.3333333333333333 @ 1.35\n",
      "OrderType.Sell 1.3333333333333333 @ 1.375\n"
     ]
    }
   ],
   "source": [
    "from agent import Agent\n",
    "from predictor import Prediction\n",
    "\n",
    "print(ex)\n",
    "\n",
    "prediction = Prediction(1.3, 1.2, 1.4)\n",
    "agent = Agent(ex)\n",
    "\n",
    "orders = agent.decide(prediction)\n",
    "\n",
    "print(\"\\n\".join([str(order) for order in orders]))"
   ],
   "metadata": {
    "collapsed": false,
    "pycharm": {
     "name": "#%%\n"
    }
   }
  },
  {
   "cell_type": "code",
   "execution_count": 15,
   "outputs": [
    {
     "name": "stdout",
     "output_type": "stream",
     "text": [
      "Balance USD: 3.353333333333332\n",
      "Balance GBP: 9.31273202614379\n",
      "Market price: 1.25\n",
      "Orders:\n",
      "OrderType.Sell 1.3333333333333333 @ 1.35\n",
      "OrderType.Sell 1.3333333333333333 @ 1.325\n",
      "OrderType.Buy 2.737414965986394 @ 1.225\n",
      "OrderType.Sell 1.3333333333333333 @ 1.375\n"
     ]
    }
   ],
   "source": [
    "for order in orders:\n",
    "    ex.add_order(order)\n",
    "\n",
    "print(ex)"
   ],
   "metadata": {
    "collapsed": false,
    "pycharm": {
     "name": "#%%\n"
    }
   }
  },
  {
   "cell_type": "code",
   "execution_count": null,
   "outputs": [],
   "source": [],
   "metadata": {
    "collapsed": false,
    "pycharm": {
     "name": "#%%\n"
    }
   }
  }
 ],
 "metadata": {
  "kernelspec": {
   "display_name": "Python 3",
   "language": "python",
   "name": "python3"
  },
  "language_info": {
   "codemirror_mode": {
    "name": "ipython",
    "version": 2
   },
   "file_extension": ".py",
   "mimetype": "text/x-python",
   "name": "python",
   "nbconvert_exporter": "python",
   "pygments_lexer": "ipython2",
   "version": "2.7.6"
  }
 },
 "nbformat": 4,
 "nbformat_minor": 0
}