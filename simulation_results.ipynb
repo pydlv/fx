{
 "cells": [
  {
   "cell_type": "code",
   "execution_count": 3,
   "outputs": [
    {
     "name": "stderr",
     "output_type": "stream",
     "text": [
      "C:\\Users\\pydlv\\AppData\\Local\\Temp\\ipykernel_28660\\3012862440.py:5: FutureWarning:\n",
      "\n",
      "The frame.append method is deprecated and will be removed from pandas in a future version. Use pandas.concat instead.\n",
      "\n"
     ]
    },
    {
     "data": {
      "text/plain": "      Unnamed: 0        Date  Value (USD)\n0              0  2004-01-01    1000.0000\n1              1  2004-01-02    1000.0000\n2              2  2004-01-05    1000.0000\n3              3  2004-01-06    1000.0000\n4              4  2004-01-07    1000.0000\n4718        4718  2022-02-01    3646.2288\n4719        4719  2022-02-02    3661.0244\n4720        4720  2022-02-03    3669.1723\n4721        4721  2022-02-04    3712.4736\n4722        4722  2022-02-07    3717.9179",
      "text/html": "<div>\n<style scoped>\n    .dataframe tbody tr th:only-of-type {\n        vertical-align: middle;\n    }\n\n    .dataframe tbody tr th {\n        vertical-align: top;\n    }\n\n    .dataframe thead th {\n        text-align: right;\n    }\n</style>\n<table border=\"1\" class=\"dataframe\">\n  <thead>\n    <tr style=\"text-align: right;\">\n      <th></th>\n      <th>Unnamed: 0</th>\n      <th>Date</th>\n      <th>Value (USD)</th>\n    </tr>\n  </thead>\n  <tbody>\n    <tr>\n      <th>0</th>\n      <td>0</td>\n      <td>2004-01-01</td>\n      <td>1000.0000</td>\n    </tr>\n    <tr>\n      <th>1</th>\n      <td>1</td>\n      <td>2004-01-02</td>\n      <td>1000.0000</td>\n    </tr>\n    <tr>\n      <th>2</th>\n      <td>2</td>\n      <td>2004-01-05</td>\n      <td>1000.0000</td>\n    </tr>\n    <tr>\n      <th>3</th>\n      <td>3</td>\n      <td>2004-01-06</td>\n      <td>1000.0000</td>\n    </tr>\n    <tr>\n      <th>4</th>\n      <td>4</td>\n      <td>2004-01-07</td>\n      <td>1000.0000</td>\n    </tr>\n    <tr>\n      <th>4718</th>\n      <td>4718</td>\n      <td>2022-02-01</td>\n      <td>3646.2288</td>\n    </tr>\n    <tr>\n      <th>4719</th>\n      <td>4719</td>\n      <td>2022-02-02</td>\n      <td>3661.0244</td>\n    </tr>\n    <tr>\n      <th>4720</th>\n      <td>4720</td>\n      <td>2022-02-03</td>\n      <td>3669.1723</td>\n    </tr>\n    <tr>\n      <th>4721</th>\n      <td>4721</td>\n      <td>2022-02-04</td>\n      <td>3712.4736</td>\n    </tr>\n    <tr>\n      <th>4722</th>\n      <td>4722</td>\n      <td>2022-02-07</td>\n      <td>3717.9179</td>\n    </tr>\n  </tbody>\n</table>\n</div>"
     },
     "execution_count": 3,
     "metadata": {},
     "output_type": "execute_result"
    }
   ],
   "source": [
    "import pandas\n",
    "\n",
    "data = pandas.read_csv(\"simulation_results.csv\")\n",
    "\n",
    "data.head(5).append(data.tail(5))"
   ],
   "metadata": {
    "collapsed": false,
    "pycharm": {
     "name": "#%%\n"
    }
   }
  },
  {
   "cell_type": "code",
   "execution_count": null,
   "outputs": [],
   "source": [],
   "metadata": {
    "collapsed": false,
    "pycharm": {
     "name": "#%%\n"
    }
   }
  }
 ],
 "metadata": {
  "kernelspec": {
   "display_name": "Python 3",
   "language": "python",
   "name": "python3"
  },
  "language_info": {
   "codemirror_mode": {
    "name": "ipython",
    "version": 2
   },
   "file_extension": ".py",
   "mimetype": "text/x-python",
   "name": "python",
   "nbconvert_exporter": "python",
   "pygments_lexer": "ipython2",
   "version": "2.7.6"
  }
 },
 "nbformat": 4,
 "nbformat_minor": 0
}